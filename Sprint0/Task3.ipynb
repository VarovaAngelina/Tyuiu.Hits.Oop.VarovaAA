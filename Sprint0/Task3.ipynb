{
 "cells": [
  {
   "cell_type": "markdown",
   "metadata": {},
   "source": [
    "<h1 style=\"color:DodgerBlue\">Индивидальный проект</h1>"
   ]
  },
  {
   "cell_type": "markdown",
   "metadata": {},
   "source": [
    "<h2 style=\"color:DodgerBlue\">Название проекта:</h2>\n",
    "\n",
    "----\n",
    "\n",
    "### Вариант задания : 2\n"
   ]
  },
  {
   "cell_type": "markdown",
   "metadata": {},
   "source": [
    "<h2 style=\"color:DodgerBlue\">Описание проекта:</h2>\n",
    "\n",
    "----\n",
    "\n",
    "Описание задачи:\n",
    "Создать базовый класс <em>Student</em> в C#, который будет представлять информацию о студентах. На основе этого класса разработать 2-3 производных класса, демонстрирующих принципы наследования и полиморфизма. В каждом из классов должны быть реализованы новые атрибуты и методы, а также переопределены некоторые методы базового класса для демонстрации полиморфизма.<br>\n",
    "\n",
    "<b>Требования к базовому классу Student:</b>\n",
    "* Атрибуты: Имя (<em>Name</em>), Возраст (<em>Age</em>), Курс (<em>Course</em>).\n",
    "* Методы: \n",
    "    * <em>GetInfo()</em>: метод для получения информации о студенте в виде строки.\n",
    "    * <em>Study()</em>: метод для вывода сообщения о том, что студент учится.\n",
    "    * <em>TakeExam()</em>: метод для вывода сообщения о сдаче экзамена.<br>\n",
    "    \n",
    "<b>Требования к производным классам:</b>\n",
    "1. Студент бакалавриата (<em>BachelorStudent</em>): Должен содержать дополнительные атрибуты, такие как Специальность (<em>Specialty</em>). Метод <em>Study()</em> должен быть переопределен для добавления информации о специальности при изучении предмета.\n",
    "2. Студент магистратуры (<em>MasterStudent</em>): Должен содержать дополнительные атрибуты, такие как Научный руководитель (<em>ScientificAdvisor</em>). Метод <em>TakeExam()</em> должен быть переопределен для добавления информации о научном руководителе при сдаче экзамена.\n",
    "3. Аспирант (<em>PhDStudent</em>) (если требуется третий класс): Должен содержать дополнительные атрибуты, такие как Тема диссертации (<em>DissertationTopic</em>). Метод <em>Study()</em> должен быть переопределен для добавления информации о теме диссертации при изучении предмета.\n"
   ]
  },
  {
   "cell_type": "markdown",
   "metadata": {},
   "source": [
    "<h2 style=\"color:DodgerBlue\">Реализация:</h2>\n",
    "\n",
    "----"
   ]
  },
  {
   "cell_type": "code",
   "execution_count": 2,
   "metadata": {
    "dotnet_interactive": {
     "language": "csharp"
    },
    "polyglot_notebook": {
     "kernelName": "csharp"
    }
   },
   "outputs": [],
   "source": [
    "public class Student //создаём базовый класс Student\n",
    "{\n",
    "    public string Name; //объявляем переменные\n",
    "    public int Age;\n",
    "    public int Course;\n",
    "\n",
    "    private int _stipend;\n",
    "    public int Stipend //задаём значение для переменной\n",
    "    {\n",
    "        get { return _stipend; }\n",
    "        set { _stipend = value; }\n",
    "    }\n",
    "\n",
    "    public Student(string name, int age, int course) //определяем атрибуты класса Student\n",
    "        {\n",
    "            Name = name;\n",
    "            Age = age;\n",
    "            Course = course;\n",
    "        }\n",
    "\n",
    "    public virtual string GetInfo() //создаём метод GetInfo\n",
    "    {\n",
    "        return $\"Студент: {Name}, {Age} лет, {Course} курс\";\n",
    "    }\n",
    "\n",
    "    public virtual void Study() //создаём метод Study\n",
    "    {\n",
    "        Console.WriteLine($\"{Name} учится в Тюменском индустриальном университете\");\n",
    "    }\n",
    "\n",
    "    public virtual void TakeExam() //создаём метод TakeExam\n",
    "    {\n",
    "        Console.WriteLine($\"{Name} сдает экзамены\");\n",
    "    }\n",
    "}\n",
    "\n",
    "public class BachelorStudent : Student //используем полиморфизм для переопределения некоторых метов из класса Student и наследование для остальных\n",
    "{\n",
    "    public string Specialty;\n",
    "\n",
    "    //создаём метод для студента бакалавриата\n",
    "    public BachelorStudent(string name, int age, int course, string specialty) : base(name, age, course)\n",
    "    {\n",
    "        Specialty = specialty;\n",
    "    }\n",
    "    \n",
    "    public override void Study() //переопределяем метод Study\n",
    "    {\n",
    "        Console.WriteLine($\"Учится в Тюменском индустриальном университете по специальности {Specialty}\");\n",
    "    }\n",
    "\n",
    "    public override string GetInfo() //переопределяем метод GetInfo\n",
    "    {\n",
    "        return base.GetInfo() + $\", специальность: {Specialty}\";\n",
    "    }\n",
    "}\n",
    "\n",
    "public class MasterStudent : Student\n",
    "{\n",
    "    public string ScientificAdvisor;\n",
    "\n",
    "    //создаём метод для студента магистратуры\n",
    "    public MasterStudent(string name, int age, int course, string scientificAdvisor) : base(name, age, course)\n",
    "    {\n",
    "        ScientificAdvisor = scientificAdvisor;\n",
    "    }\n",
    "\n",
    "     public override void TakeExam() //переопределяем метод TakeExam\n",
    "    {\n",
    "        Console.WriteLine($\"{Name} сдает экзамен под руководством {ScientificAdvisor}\");\n",
    "    }\n",
    "\n",
    "    public override string GetInfo() //переопределяем метод GetInfo\n",
    "    {\n",
    "        return base.GetInfo() + $\", Научный руководитель: {ScientificAdvisor}\";\n",
    "    }\n",
    "}\n",
    "\n",
    "\n",
    "public class PhDStudent : Student\n",
    "{\n",
    "    public string DissertationTopic;\n",
    "\n",
    "    //создаём метод для студента аспирантуры\n",
    "    public PhDStudent(string name, int age, int course, string dissertationTopic) : base(name, age, course)\n",
    "    {\n",
    "        DissertationTopic = dissertationTopic;\n",
    "    }\n",
    "\n",
    "    public override void Study() //переопределяем метод Study\n",
    "    {\n",
    "        Console.WriteLine($\"{Name} изучает тему диссертации: {DissertationTopic}\");\n",
    "    }\n",
    "\n",
    "    public override string GetInfo() //переопределяем метод GetInfo\n",
    "    {\n",
    "        return base.GetInfo() + $\", Тема диссертации: {DissertationTopic}\";\n",
    "    }\n",
    "}\n",
    "\n",
    "Student student1 = new BachelorStudent(\"Ангелина\", 19, 2,\"Искусственный интеллект и программирование\");\n",
    "Student student2 = new MasterStudent(\"Габриэль\", 25, 1, \"Сарпов Е.Н.\");\n",
    "Student student3 = new PhDStudent(\"Кирилл\", 29, 3, \"Искусственный интеллект\");\n",
    "\n",
    "Console.WriteLine(student1.GetInfo());\n",
    "student1.Study();\n",
    "student1.TakeExam();\n",
    "\n",
    "Console.WriteLine();\n",
    "\n",
    "Console.WriteLine(student2.GetInfo());\n",
    "student2.Study();\n",
    "student2.TakeExam();\n",
    "\n",
    "Console.WriteLine();\n",
    "\n",
    "Console.WriteLine(student3.GetInfo());\n",
    "student3.Study();\n",
    "student3.TakeExam();"
   ]
  }
 ],
 "metadata": {
  "kernelspec": {
   "display_name": ".NET (C#)",
   "language": "C#",
   "name": ".net-csharp"
  },
  "polyglot_notebook": {
   "kernelInfo": {
    "defaultKernelName": "csharp",
    "items": [
     {
      "aliases": [],
      "languageName": "csharp",
      "name": "csharp"
     }
    ]
   }
  }
 },
 "nbformat": 4,
 "nbformat_minor": 2
}
